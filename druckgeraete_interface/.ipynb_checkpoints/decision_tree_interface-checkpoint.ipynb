{
 "cells": [
  {
   "cell_type": "code",
   "execution_count": 1,
   "metadata": {
    "collapsed": true
   },
   "outputs": [],
   "source": [
    "from numpy import ones,vstack\n",
    "from numpy.linalg import lstsq\n",
    "import math"
   ]
  },
  {
   "cell_type": "markdown",
   "metadata": {},
   "source": [
    "This programm provides a user interface for categorizing Druckgeräte. The interface can be started from the last cell.\n"
   ]
  },
  {
   "cell_type": "code",
   "execution_count": 2,
   "metadata": {},
   "outputs": [
    {
     "data": {
      "text/plain": [
       "'(1)Folgende Druckger\\xc3\\xa4te m\\xc3\\xbcssen die in Anhang I genannten wesentlichen Sicherheitsanforderungen erf\\xc3\\xbcllen:\\na) Beh\\xc3\\xa4lter, mit Ausnahme der unter Buchstabe b genannten Beh\\xc3\\xa4lter, f\\xc3\\xbcr: '"
      ]
     },
     "execution_count": 2,
     "metadata": {},
     "output_type": "execute_result"
    }
   ],
   "source": [
    "#Mit den Abgrenzungskurven in den nachstehenden Konformitätsbewertungsdiagrammen wird der Höchstwert für \n",
    "#jede Kategorie angegeben.\n",
    "'''(1)Folgende Druckgeräte müssen die in Anhang I genannten wesentlichen Sicherheitsanforderungen erfüllen:\n",
    "a) Behälter, mit Ausnahme der unter Buchstabe b genannten Behälter, für: '''\n",
    "\n",
    "# Diagramm 1: Gase, verflüssigte Gase, unter Druck gelöste Gase, Dämpfe und diejenigen Flüssigkeiten, \n",
    "# deren Dampfdruck bei der zulässigen maximalen Temperatur um mehr als 0,5 bar über dem normalen \n",
    "#Atmosphärendruck (1 013 mbar) liegt, innerhalb nachstehender Grenzwerte: bei Fluiden der Gruppe 1, \n",
    "#wenn das Volumen größer als 1 Liter und das Produkt PS·V größer als 25 bar·L ist oder wenn der \n",
    "#Druck PS größer als 200 bar ist (Anhang II, Diagramm 1);\n",
    "\n",
    "#Als Ausnahme hiervon sind Behälter, die für ein instabiles Gas bestimmt sind und nach Diagramm 1 \n",
    "# unter die Kategorie I oder II fallen, in die Kategorie III einzustufen."
   ]
  },
  {
   "cell_type": "markdown",
   "metadata": {},
   "source": [
    "<img src=\"graph1.png\">"
   ]
  },
  {
   "cell_type": "code",
   "execution_count": 3,
   "metadata": {},
   "outputs": [
    {
     "name": "stdout",
     "output_type": "stream",
     "text": [
      "150.0\n"
     ]
    },
    {
     "data": {
      "text/plain": [
       "'Gruppe III'"
      ]
     },
     "execution_count": 3,
     "metadata": {},
     "output_type": "execute_result"
    }
   ],
   "source": [
    "def Graph1_descision_tree(volume,druck):\n",
    "    result = \"no result\"\n",
    "    \n",
    "    PS_1 = 0.5\n",
    "    PS_2 = 200\n",
    "    PS_3 = 1000\n",
    "    \n",
    "    PS_V_1 = 25\n",
    "    PS_V_2 = 50\n",
    "    PS_V_3 = 200\n",
    "    PS_V_4 = 1000\n",
    "    print(volume*druck)\n",
    "\n",
    "    if volume < 1:\n",
    "        if druck < PS_2:\n",
    "            result = \"Artikel 4, Absatz 3\"\n",
    "        elif druck >= PS_2 and druck < PS_3:\n",
    "            result = \"Gruppe III\"\n",
    "        elif druck >= PS_3: \n",
    "            result = \"Gruppe IV\"\n",
    "    elif volume >= 1 and volume < 2000:\n",
    "        if volume*druck < PS_V_1:\n",
    "            result = \"Artikel 4, Absatz 3\"\n",
    "        elif volume*druck >= PS_V_1 and druck < GPS_V_2:\n",
    "            result = \"Gruppe I\"\n",
    "        elif volume*druck >= PS_V_2 and druck < PS_V_3:\n",
    "            result = \"Gruppe II\"\n",
    "        elif volume*druck >= PS_V_3 and druck < PS_V_4:\n",
    "            result = \"Gruppe III\"\n",
    "        elif volume*druck >= PS_V_4:\n",
    "            result = \"Gruppe IV\"\n",
    "\n",
    "    elif volume >= 2000: \n",
    "        if volume*druck < PS_V_4:\n",
    "            result = \"Gruppe III\"\n",
    "        elif volume*druck >= PS_V_4:   \n",
    "            result = \"Gruppe IV\"\n",
    "    return result\n",
    "\n",
    "\n",
    "Graph1_descision_tree(0.5,300)"
   ]
  },
  {
   "cell_type": "code",
   "execution_count": 4,
   "metadata": {
    "collapsed": true
   },
   "outputs": [],
   "source": [
    "# Diagramm 2:  Gase, verflüssigte Gase, unter Druck gelöste Gase, Dämpfe und diejenigen Flüssigkeiten, \n",
    "# deren Dampfdruck bei der zulässigen maximalen Temperatur um mehr als 0,5 bar über dem normalen \n",
    "# Bei Fluiden der Gruppe 2, wenn das Volumen größer als 1 Liter und das Produkt PS·V größer als 50 bar·L\n",
    "# ist oder wenn der Druck PS größer als 1 000 bar ist, sowie alle tragbaren Feuerlöscher und die Flaschen für \n",
    "# Atemschutzgeräte (Anhang II, Diagramm 2);\n",
    "\n",
    "#Als Ausnahme hiervon sind tragbare Feuerlöscher und Flaschen für Atemschutzgeräte mindestens \n",
    "#in die Kategorie III einzustufen."
   ]
  },
  {
   "cell_type": "markdown",
   "metadata": {},
   "source": [
    "<img src=\"graph2.png\">"
   ]
  },
  {
   "cell_type": "code",
   "execution_count": 5,
   "metadata": {},
   "outputs": [
    {
     "name": "stdout",
     "output_type": "stream",
     "text": [
      "150.0\n",
      "herehrehrehrehreh\n"
     ]
    },
    {
     "data": {
      "text/plain": [
       "'Artikel 4, Absatz 3'"
      ]
     },
     "execution_count": 5,
     "metadata": {},
     "output_type": "execute_result"
    }
   ],
   "source": [
    "def Graph2_descision_tree(volume,druck):\n",
    "    result = \"no result\"\n",
    "    \n",
    "    PS_1 = 0.5\n",
    "    PS_2 = 4\n",
    "    PS_3 = 1000\n",
    "    PS_4 = 3000\n",
    "    \n",
    "    PS_V_1 = 50\n",
    "    PS_V_2 = 200\n",
    "    PS_V_3 = 1000\n",
    "    PS_V_4 = 3000\n",
    "    print(volume*druck)\n",
    "\n",
    "    if volume < 1:\n",
    "        if druck < PS_3:\n",
    "            print(\"herehrehrehrehreh\")\n",
    "            result = \"Artikel 4, Absatz 3\"\n",
    "        elif druck >= PS_3 and druck < PS_4:\n",
    "            result = \"Gruppe III\"\n",
    "        elif druck >= PS_4: \n",
    "            result = \"Gruppe IV\"\n",
    "    elif volume >= 1 and volume <= 750:\n",
    "        if volume*druck < PS_V_1:\n",
    "                result = \"Artikel 4, Absatz 3\"\n",
    "        elif volume*druck >= PS_V_1 and druck < PS_V_2:\n",
    "                result = \"Gruppe I\"\n",
    "        elif volume*druck >= PS_V_2 and druck < PS_V_3:\n",
    "                result = \"Gruppe II\"\n",
    "        elif volume*druck >= PS_V_3 and druck < PS_V_4:\n",
    "                result = \"Gruppe III\"\n",
    "        elif volume*druck >= PS_V_4:\n",
    "                result = \"Gruppe IV\"\n",
    "    elif volume < 750 and volume <= 2000:\n",
    "        if volume*druck < PS_V_3:\n",
    "                result = \"Gruppe II\"\n",
    "        elif volume*druck >= PS_V_3 and druck < PS_2:\n",
    "                result = \"Gruppe III\"\n",
    "        elif volume*druck >= PS_V_3 and druck > PS_2:\n",
    "                result = \"Gruppe IV\"\n",
    "    elif volume > 2000:\n",
    "        if volume*druck < PS_V_4:\n",
    "            result = \"Gruppe III\"\n",
    "        elif volume*druck >= PS_V_4:\n",
    "            result = \"Gruppe IV\"\n",
    "    return result\n",
    "        \n",
    "\n",
    "\n",
    "\n",
    "Graph2_descision_tree(0.5,300)"
   ]
  },
  {
   "cell_type": "code",
   "execution_count": 6,
   "metadata": {},
   "outputs": [],
   "source": [
    "#Diagramm 3: Flüssigkeiten, deren Dampfdruck bei der zulässigen maximalen Temperatur um höchstens 0,5 bar über \n",
    "#dem normalen Atmosphärendruck (1 013 mbar) liegt, innerhalb nachstehender Grenzwerte:\n",
    "#bei Fluiden der Gruppe 1, wenn das Volumen größer als 1 Liter und das Produkt PS·V größer als 200 bar·L ist oder \n",
    "#wenn der Druck PS größer als 500 bar ist (Anhang II, Diagramm 3);"
   ]
  },
  {
   "cell_type": "markdown",
   "metadata": {},
   "source": [
    "<img src=\"diagramm3.png\">"
   ]
  },
  {
   "cell_type": "code",
   "execution_count": 7,
   "metadata": {},
   "outputs": [
    {
     "name": "stdout",
     "output_type": "stream",
     "text": [
      "1000\n"
     ]
    },
    {
     "data": {
      "text/plain": [
       "'Gruppe I'"
      ]
     },
     "execution_count": 7,
     "metadata": {},
     "output_type": "execute_result"
    }
   ],
   "source": [
    "def Graph3_descision_tree(volume,druck):\n",
    "    result = \"no result\"\n",
    "    \n",
    "    PS_1 = 0.5\n",
    "    PS_2 = 10\n",
    "    PS_3 = 500\n",
    "    \n",
    "    PS_V_1 = 200\n",
    "   \n",
    "    print(volume*druck)\n",
    "\n",
    "    if volume < 1:\n",
    "        if druck < PS_3:\n",
    "            result = \"Artikel 4, Absatz 3\"\n",
    "        elif druck >= PS_3 and druck < PS_4:\n",
    "                result = \"Gruppe II\"\n",
    "    elif volume >= 1 and volume <= 400:\n",
    "        if volume*druck < PS_V_1:\n",
    "                result = \"Artikel 4, Absatz 3\"\n",
    "        elif volume*druck >= PS_V_1 and druck < PS_2:\n",
    "                result = \"Gruppe I\"\n",
    "        elif volume*druck >= PS_V_1 and (druck > PS_2 and druck < PS_3):\n",
    "                result = \"Gruppe II\"\n",
    "        elif volume*druck >= PS_V_1 and druck > PS_3:\n",
    "                result = \"Gruppe III\"\n",
    "    elif volume > 400:\n",
    "        if druck < PS_2:\n",
    "                result = \"Gruppe I\"\n",
    "        elif druck >= PS_2 and druck < PS_3:\n",
    "                result = \"Gruppe II\"\n",
    "        elif druck >= PS_3:\n",
    "                result = \"Gruppe III\"\n",
    "    return result\n",
    "        \n",
    "\n",
    "\n",
    "\n",
    "Graph3_descision_tree(1000,1)"
   ]
  },
  {
   "cell_type": "code",
   "execution_count": 8,
   "metadata": {
    "collapsed": true
   },
   "outputs": [],
   "source": [
    "#Diagramm 4: Flüssigkeiten, deren Dampfdruck bei der zulässigen maximalen Temperatur um höchstens 0,5 bar über \n",
    "#dem normalen Atmosphärendruck (1 013 mbar) liegt, innerhalb nachstehender Grenzwerte:\n",
    "#bei Fluiden der Gruppe 2, wenn der Druck PS größer als 10 bar und das Produkt PS·V größer als 10 000 bar·L ist oder \n",
    "#wenn der Druck PS größer als 1 000 bar ist (Anhang II, Diagramm 4);"
   ]
  },
  {
   "cell_type": "markdown",
   "metadata": {},
   "source": [
    "<img src=\"diagramm4.png\">"
   ]
  },
  {
   "cell_type": "code",
   "execution_count": 9,
   "metadata": {},
   "outputs": [
    {
     "name": "stdout",
     "output_type": "stream",
     "text": [
      "392000\n"
     ]
    },
    {
     "data": {
      "text/plain": [
       "'Gruppe I'"
      ]
     },
     "execution_count": 9,
     "metadata": {},
     "output_type": "execute_result"
    }
   ],
   "source": [
    "def Graph4_descision_tree(volume,druck):\n",
    "    result = \"no result\"\n",
    "    \n",
    "    PS_1 = 0.5\n",
    "    PS_2 = 10\n",
    "    PS_3 = 500\n",
    "    PS_4 = 1000\n",
    "    \n",
    "    PS_V_1 = 10000\n",
    " \n",
    "   \n",
    "    print(volume*druck)\n",
    "\n",
    "    if volume < 10:\n",
    "        if druck < PS_4:\n",
    "            result = \"Artikel 4, Absatz 3\"\n",
    "        elif druck >= PS_4:\n",
    "                result = \"Gruppe I\"\n",
    "    elif volume >= 10 and volume <= 1000:\n",
    "        if volume*druck < PS_V_1:\n",
    "                result = \"Artikel 4, Absatz 3\"\n",
    "        elif volume*druck >= PS_V_1 and druck < PS_3:\n",
    "                result = \"Gruppe I\"\n",
    "        elif volume*druck >= PS_V_1 and druck >= PS_3:\n",
    "                result = \"Gruppe II\"\n",
    "    elif volume > 1000:\n",
    "        if druck < PS_2:\n",
    "                result = \"Artikel 4, Absatz 3\"\n",
    "        elif druck >= PS_2 and druck < PS_3:\n",
    "                result = \"Gruppe I\"\n",
    "        elif druck >= PS_3:\n",
    "                result = \"Gruppe II\"\n",
    "    return result\n",
    "        \n",
    "\n",
    "\n",
    "\n",
    "Graph4_descision_tree(800,490)"
   ]
  },
  {
   "cell_type": "code",
   "execution_count": 10,
   "metadata": {
    "collapsed": true
   },
   "outputs": [],
   "source": [
    "#Diagramm 5: befeuerte oder anderweitig beheizte Druckgeräte mit Überhitzungsrisiko zur Erzeugung von Dampf oder\n",
    "# Heißwasser mit einer Temperatur von mehr als 110 °C und einem Volumen von mehr als 2 Liter sowie alle\n",
    "# Schnellkochtöpfe (Anhang II, Diagramm 5);"
   ]
  },
  {
   "cell_type": "markdown",
   "metadata": {},
   "source": [
    "<img src=\"diagramm5.png\">"
   ]
  },
  {
   "cell_type": "code",
   "execution_count": 11,
   "metadata": {},
   "outputs": [
    {
     "name": "stdout",
     "output_type": "stream",
     "text": [
      "1600\n",
      "here\n"
     ]
    },
    {
     "data": {
      "text/plain": [
       "'Gruppe III'"
      ]
     },
     "execution_count": 11,
     "metadata": {},
     "output_type": "execute_result"
    }
   ],
   "source": [
    "def Graph5_descision_tree(volume,druck):\n",
    "    result = \"no result\"\n",
    "    \n",
    "    PS_1 = 0.5\n",
    "    PS_2 = 32\n",
    "    \n",
    "    PS_V_1 = 50\n",
    "    PS_V_2 = 200\n",
    "    PS_V_3 = 3000\n",
    " \n",
    "    print(volume*druck)\n",
    "\n",
    "    if volume < 2:\n",
    "        result = \"Artikel 4, Absatz 3\"\n",
    "       \n",
    "    elif volume >= 2 and volume <= 100:\n",
    "        if volume*druck < PS_V_1:\n",
    "            result = \"Gruppe I\"\n",
    "        elif volume*druck >= PS_V_1 and druck < PS_V_2:      \n",
    "            result = \"Gruppe II\"\n",
    "        elif volume*druck >= PS_V_2 and druck <= PS_2:\n",
    "            result = \"Gruppe III\"\n",
    "        elif druck >= PS_2:\n",
    "            result = \"Gruppe IV\"\n",
    "    elif volume > 100 and volume <= 1000:\n",
    "        print(\"here\")\n",
    "        if volume*druck < PS_V_2:\n",
    "                result = \"Gruppe II\"\n",
    "        elif volume*druck >= PS_V_2 and volume*druck < PS_V_3:\n",
    "                result = \"Gruppe III\"\n",
    "        elif volume*druck >= PS_V_3:\n",
    "                result = \"Gruppe IV\"\n",
    "    elif volume >= 1000:\n",
    "        result = \"Gruppe IV\"\n",
    "    return result\n",
    "        \n",
    "\n",
    "\n",
    "\n",
    "Graph5_descision_tree(400,4)"
   ]
  },
  {
   "cell_type": "code",
   "execution_count": 12,
   "metadata": {
    "collapsed": true
   },
   "outputs": [],
   "source": [
    "#Diagramm 6: Rohrleitungen für\n",
    "#i) Gase, verflüssigte Gase, unter Druck gelöste Gase, Dämpfe und diejenigen Flüssigkeiten, deren Dampfdruck bei \n",
    "#der zulässigen maximalen Temperatur um mehr als 0,5 bar über dem normalen Atmosphärendruck (1 013 mbar) liegt, \n",
    "# innerhalb nachstehender Grenzwerte:bei Fluiden der Gruppe 1, wenn deren DN größer als 25 ist (Anhang II, Diagramm 6);"
   ]
  },
  {
   "cell_type": "markdown",
   "metadata": {},
   "source": [
    "<img src=\"diagramm6.png\">"
   ]
  },
  {
   "cell_type": "code",
   "execution_count": 13,
   "metadata": {},
   "outputs": [
    {
     "name": "stdout",
     "output_type": "stream",
     "text": [
      "1600\n"
     ]
    },
    {
     "data": {
      "text/plain": [
       "'Gruppe III'"
      ]
     },
     "execution_count": 13,
     "metadata": {},
     "output_type": "execute_result"
    }
   ],
   "source": [
    "def Graph6_descision_tree(dn,druck):\n",
    "    result = \"no result\"\n",
    "    \n",
    "    PS_1 = 0.5\n",
    "    PS_2 = 32\n",
    "    \n",
    "    PS_DN_1 = 1000\n",
    "    PS_DN_2 = 3500\n",
    "\n",
    "    print(dn*druck)\n",
    "\n",
    "    if dn < 25:\n",
    "        result = \"Artikel 4, Absatz 3\"\n",
    "    elif dn >= 2 and dn <= 100:\n",
    "        if dn*druck < PS_DN_1 :\n",
    "            result = \"Gruppe I\"\n",
    "        elif dn*druck >= PS_DN_1:      \n",
    "            result = \"Gruppe II\"\n",
    "    elif dn > 100 and dn <= 350:\n",
    "        if dn*druck < PS_DN_2:\n",
    "                result = \"Gruppe II\"\n",
    "        elif dn*druck >= PS_DN_2:\n",
    "                result = \"Gruppe III\"\n",
    "    elif dn >= 350:\n",
    "        result = \"Gruppe III\"\n",
    "    return result\n",
    "\n",
    "Graph6_descision_tree(400,4)"
   ]
  },
  {
   "cell_type": "code",
   "execution_count": 14,
   "metadata": {
    "collapsed": true
   },
   "outputs": [],
   "source": [
    "#Diagramm 7: Rohrleitungen für\n",
    "#i) Gase, verflüssigte Gase, unter Druck gelöste Gase, Dämpfe und diejenigen Flüssigkeiten, deren Dampfdruck bei \n",
    "#der zulässigen maximalen Temperatur um mehr als 0,5 bar über dem normalen Atmosphärendruck (1 013 mbar) liegt, \n",
    "# innerhalb nachstehender Grenzwerte:bei Fluiden der Gruppe 2, wenn deren DN größer als 32 und das Produkt PS·DN \n",
    "#größer als 1 000 bar ist (Anhang II, Diagramm 7)"
   ]
  },
  {
   "cell_type": "markdown",
   "metadata": {},
   "source": [
    "<img src=\"diagramm7.png\">"
   ]
  },
  {
   "cell_type": "code",
   "execution_count": 15,
   "metadata": {},
   "outputs": [
    {
     "name": "stdout",
     "output_type": "stream",
     "text": [
      "1600\n"
     ]
    },
    {
     "data": {
      "text/plain": [
       "'Gruppe I'"
      ]
     },
     "execution_count": 15,
     "metadata": {},
     "output_type": "execute_result"
    }
   ],
   "source": [
    "def Graph7_descision_tree(dn,druck):\n",
    "    result = \"no result\"\n",
    "    \n",
    "    PS_1 = 0.5\n",
    "    PS_2 = 32\n",
    "    \n",
    "    PS_DN_1 = 1000\n",
    "    PS_DN_2 = 3500\n",
    "    PS_DN_3 = 5000\n",
    "\n",
    "    print(dn*druck)\n",
    "\n",
    "    if dn < 32:\n",
    "        result = \"Artikel 4, Absatz 3\"\n",
    "    elif dn >= 32 and dn < 100:\n",
    "        if dn*druck < PS_DN_1 :\n",
    "            result = \"Artikel 4, Absatz 3\"\n",
    "        elif dn*druck >= PS_DN_1:      \n",
    "            result = \"Gruppe I\"\n",
    "    elif dn >= 100 and dn <= 250:\n",
    "        if dn*druck < PS_DN_1 :\n",
    "            result = \"Artikel 4, Absatz 3\"\n",
    "        elif dn*druck >= PS_DN_1 and dn*druck < PS_DN_2:\n",
    "            result = \"Gruppe I\"\n",
    "        elif dn*druck >= PS_DN_2:\n",
    "            result = \"Gruppe II\"\n",
    "    elif dn >= 250:\n",
    "        if dn*druck < PS_DN_1:\n",
    "            result = \"Artikel 4, Absatz 3\"\n",
    "        elif dn*druck >= PS_DN_1 and dn*druck < PS_DN_2:\n",
    "            result = \"Gruppe I\"\n",
    "        elif dn*druck >= PS_DN_2 and dn*druck < PS_DN_3:\n",
    "            result = \"Gruppe II\"\n",
    "        elif dn*druck >= PS_DN_3:\n",
    "            result = \"Gruppe III\"\n",
    "    return result\n",
    "\n",
    "Graph7_descision_tree(400,4)"
   ]
  },
  {
   "cell_type": "code",
   "execution_count": 16,
   "metadata": {
    "collapsed": true
   },
   "outputs": [],
   "source": [
    "#Diagramm 8: Flüssigkeiten, deren Dampfdruck bei der zulässigen maximalen Temperatur um höchstens 0,5 bar über \n",
    "# dem normalen Atmosphärendruck (1 013 mbar) liegt, innerhalb nachstehender Grenzwerte: bei Fluiden der Gruppe 1, \n",
    "#wenn deren DN größer als 25 und das Produkt PS·DN größer als 2 000 bar ist (Anhang II, Diagramm 8);"
   ]
  },
  {
   "cell_type": "markdown",
   "metadata": {},
   "source": [
    "<img src=\"diagramm8.png\">"
   ]
  },
  {
   "cell_type": "code",
   "execution_count": 17,
   "metadata": {},
   "outputs": [
    {
     "name": "stdout",
     "output_type": "stream",
     "text": [
      "4000000\n",
      "here\n"
     ]
    },
    {
     "data": {
      "text/plain": [
       "'Gruppe III'"
      ]
     },
     "execution_count": 17,
     "metadata": {},
     "output_type": "execute_result"
    }
   ],
   "source": [
    "def Graph8_descision_tree(dn,druck):\n",
    "    result = \"no result\"\n",
    "    \n",
    "    PS_1 = 0.5\n",
    "    PS_2 = 10\n",
    "    PS_3 = 500\n",
    "    \n",
    "    PS_DN_1 = 2000\n",
    "\n",
    "    print(dn*druck)\n",
    "\n",
    "    if dn < 25:\n",
    "        result = \"Artikel 4, Absatz 3\"\n",
    "    elif dn >= 24 and dn < 4000:\n",
    "        if dn*druck < PS_DN_1 :\n",
    "            result = \"Artikel 4, Absatz 3\"\n",
    "        elif dn*druck >= PS_DN_1 and druck < PS_2:\n",
    "            result = \"Gruppe I\"\n",
    "        elif dn*druck >= PS_DN_1 and (druck > PS_2 and druck < PS_3):\n",
    "            result = \"Gruppe II\"\n",
    "        elif druck > PS_3:\n",
    "            result = \"Gruppe III\"  \n",
    "    elif dn >= 4000:\n",
    "        print('here')\n",
    "        if druck < PS_2:\n",
    "            result = \"Gruppe I\"\n",
    "        elif druck >= PS_2 and druck < PS_3:\n",
    "            result = \"Gruppe II\"\n",
    "        elif druck >= PS_3:\n",
    "            result = \"Gruppe III\"\n",
    "    return result\n",
    "\n",
    "Graph8_descision_tree(4000,1000)"
   ]
  },
  {
   "cell_type": "code",
   "execution_count": 18,
   "metadata": {
    "collapsed": true
   },
   "outputs": [],
   "source": [
    "#Diagramm 9: Flüssigkeiten, deren Dampfdruck bei der zulässigen maximalen Temperatur um höchstens 0,5 bar über \n",
    "# dem normalen Atmosphärendruck (1 013 mbar) liegt, innerhalb nachstehender Grenzwerte: bei Fluiden der Gruppe 2, \n",
    "# wenn der Druck PS größer als 10 bar und DN größer als 200 und das Produkt PS·DN größer als 5 000 bar ist \n",
    "#(Anhang II, Diagramm 9);"
   ]
  },
  {
   "cell_type": "markdown",
   "metadata": {},
   "source": [
    "<img src=\"diagramm9.png\">"
   ]
  },
  {
   "cell_type": "code",
   "execution_count": 19,
   "metadata": {},
   "outputs": [
    {
     "name": "stdout",
     "output_type": "stream",
     "text": [
      "125000\n"
     ]
    },
    {
     "data": {
      "text/plain": [
       "'Gruppe II'"
      ]
     },
     "execution_count": 19,
     "metadata": {},
     "output_type": "execute_result"
    }
   ],
   "source": [
    "def Graph9_descision_tree(dn,druck):\n",
    "    result = \"no result\"\n",
    "    \n",
    "    PS_1 = 0.5\n",
    "    PS_2 = 10\n",
    "    PS_3 = 500\n",
    "    \n",
    "    PS_DN_1 = 5000\n",
    "\n",
    "    print(dn*druck)\n",
    "\n",
    "    if dn < 200:\n",
    "        result = \"Artikel 4, Absatz 3\"\n",
    "    elif dn >= 200 and dn < 500:\n",
    "        if dn*druck < PS_DN_1 :\n",
    "            result = \"Artikel 4, Absatz 3\"\n",
    "        elif dn*druck >= PS_DN_1 and druck < PS_3:\n",
    "            result = \"Gruppe I\"\n",
    "        elif druck >= PS_3:\n",
    "            result = \"Gruppe II\"\n",
    "    elif dn >= 500:\n",
    "        if druck < PS_2:\n",
    "            result = \"Artikel 4, Absatz 3\"\n",
    "        elif druck >= PS_2 and druck < PS_3:\n",
    "            result = \"Gruppe I\"\n",
    "        elif druck >= PS_3:\n",
    "            result = \"Gruppe II\"\n",
    "    return result\n",
    "\n",
    "Graph9_descision_tree(250,500)"
   ]
  },
  {
   "cell_type": "code",
   "execution_count": 20,
   "metadata": {},
   "outputs": [],
   "source": [
    "#Decides Diagramm\n",
    "\n",
    "\n",
    "def druck_diagramm(objekt,medium,gruppe,druck,volume):\n",
    "    message = \"\"\n",
    "    if objekt == \"Behälter\" and medium == \"Gas bzw. verflüssigtes Gas\":\n",
    "        if gruppe == \"Gruppe I\": \n",
    "            variables['diagramm']= \"Diagramm 1\"\n",
    "            variables['absatz']= \"a S.i\"\n",
    "            result = Graph1_descision_tree(volume,druck)\n",
    "        if gruppe == \"Gruppe II\": \n",
    "            variables['diagramm']= \"Diagramm 2\"\n",
    "            variables['absatz']= \"a S.i\"\n",
    "            result = Graph2_descision_tree(volume,druck)\n",
    "            print(\"el resultado que llega es:::::\")\n",
    "            print(result)\n",
    "    if objekt == \"Behälter\" and medium == \"Flüssigkeit\":\n",
    "        if gruppe == \"Gruppe I\": \n",
    "            variables['diagramm']= \"Diagramm 3\"\n",
    "            variables['absatz']= \"a S.ii\"\n",
    "            result = Graph3_descision_tree(volume,druck)\n",
    "        if gruppe == \"Gruppe II\": \n",
    "            variables['diagramm']= \"Diagramm 4\"\n",
    "            variables['absatz']= \"a S.ii\"\n",
    "            result = Graph4_descision_tree(volume,druck)\n",
    "    if objekt == \"Dampferzeuger, -kessel\":\n",
    "            variables['diagramm']= \"Diagramm 5\"\n",
    "            variables['absatz']= \"b\"\n",
    "            result = Graph5_descision_tree(volume,druck)        \n",
    "    if objekt == \"Rohrleitung\" and medium == \"Gas bzw. verflüssigtes Gas\":\n",
    "        if gruppe == \"Gruppe I\": \n",
    "            variables['diagramm']= \"Diagramm 6\"\n",
    "            variables['absatz']= \"c S.i\"\n",
    "            result = Graph6_descision_tree(volume,druck)\n",
    "        if gruppe == \"Gruppe II\": \n",
    "            variables['diagramm']= \"Diagramm 7\"\n",
    "            variables['absatz']= \"c S.i\"\n",
    "            result = Graph7_descision_tree(volume,druck)\n",
    "    if objekt == \"Rohrleitung\" and medium == \"Flüssigkeit\":\n",
    "        if gruppe == \"Gruppe I\": \n",
    "            variables['diagramm']= \"Diagramm 8\"\n",
    "            variables['absatz']= \"c S.ii\"\n",
    "            result = Graph8_descision_tree(volume,druck)\n",
    "        if gruppe == \"Gruppe II\": \n",
    "            variables['diagramm']= \"Diagramm 9\"\n",
    "            variables['absatz']= \"c S.ii\"\n",
    "            result = Graph9_descision_tree(volume,druck)\n",
    "    \n",
    "    return result"
   ]
  },
  {
   "cell_type": "code",
   "execution_count": 21,
   "metadata": {},
   "outputs": [],
   "source": [
    "#Sumarizes information and presents the results\n",
    "modulkategorien=  {\"Artikel 4, Absatz 3\": \"Keine Module. Druckgeräte und Baugruppen in dieser Kategorie müssen in Übereinstimmung mit der in einem Mitgliedstaat geltenden guten Ingenieurpraxis ausgelegt und hergestellt werden, damit gewährleistet ist, dass sie sicher verwendet werden können. Den Druckgeräten und Baugruppen ist eine ausreichende Betriebsanleitung beizufügen.\", \"Gruppe I\": \"Modul A\", \"Gruppe II\": \"Module A2, D1, E1\", \"Gruppe II\": \"Module B (Entwurfsmuster) + D, B (Entwurfsmuster) + F, B (Baumuster) + E, B (Baumuster) + C2, H\",\"Gruppe IV\": \"Module B (Baumuster) + D, B (Baumuster)+ F, G, H1\"}\n",
    "\n",
    "def result_summary(objekt,medium,gruppe,druck,volume_or_dn,diagramm_result):\n",
    "    \n",
    "    absatz = variables[\"absatz\"]\n",
    "    diagramm = variables[\"diagramm\"]\n",
    "    modul = modulkategorien[diagramm_result]\n",
    "    if objekt == \"Rohrleitung\":\n",
    "        \n",
    "        app.addLabel(\"subtitle6\", \"5. Zusammenfassung\")\n",
    "        app.setLabelAlign(\"subtitle6\", \"left\")\n",
    "        \n",
    "        app.addLabel(\"result\", \"Objekt: \"+ objekt )\n",
    "        app.setLabelAlign(\"result\", \"left\")\n",
    "        \n",
    "        app.addLabel(\"result1\", \"Medium: \"+ medium)\n",
    "        app.setLabelAlign(\"result1\",\"left\")\n",
    "        \n",
    "        app.addLabel(\"result2\", \"Fluid der Gruppe: \"+gruppe )\n",
    "        app.setLabelAlign(\"result2\",\"left\")\n",
    "        \n",
    "        app.addLabel(\"result3\",  \"Max. zul. Druck: \"+str(druck) )\n",
    "        app.setLabelAlign(\"result3\",\"left\")\n",
    "        \n",
    "        app.addLabel(\"result4\",  \"Nennweite DN: \"+str(volume_or_dn) )\n",
    "        app.setLabelAlign(\"result4\",\"left\")\n",
    "        \n",
    "        app.addLabel(\"result5\",  \"PS * DN: \"+ str(volume_or_dn*druck) )\n",
    "        app.setLabelAlign(\"result5\",\"left\")\n",
    "        \n",
    "        app.addLabel(\"subtitle13\", \"7. Ergebnis\")\n",
    "        app.setLabelAlign(\"subtitle13\", \"left\")\n",
    "        \n",
    "        #app.addImage(title, file)\n",
    "    \n",
    "        msg = \"Die Anlage fällt unter Artikel 4, Absatz \"+absatz+\". Bestimmung erfolgt nach \"+diagramm +\".\"+\"Die Anlage fällt in Kategorie \"+diagramm_result+'.'+\" Diese Kategorie entspricht folgenden Modulkategorien:\"+ modul\n",
    "        app.addMessage(\"summary_message\", msg)\n",
    "        app.addLabel(\"space\", \"\")\n",
    "        app.setMessageAlign(\"summary_message\",\"left\")\n",
    "        app.setMessageWidth(\"summary_message\", 500)\n",
    "        \n",
    "    else:\n",
    "        app.addLabel(\"subtitle7\", \"5. Zusammenfassung\")\n",
    "        app.setLabelAlign(\"subtitle7\", \"left\")\n",
    "        \n",
    "        app.addLabel(\"result6\", \"Objekt: \"+ objekt )\n",
    "        app.setLabelAlign(\"result6\", \"left\")\n",
    "        \n",
    "        app.addLabel(\"result7\", \"Medium: \"+ medium)\n",
    "        app.setLabelAlign(\"result7\",\"left\")\n",
    "        \n",
    "        app.addLabel(\"result8\", \"Fluid der Gruppe: \"+gruppe )\n",
    "        app.setLabelAlign(\"result8\",\"left\")\n",
    "        \n",
    "        app.addLabel(\"result9\",  \"Max. zul. Druck: \"+str(druck) )\n",
    "        app.setLabelAlign(\"result9\",\"left\")\n",
    "        \n",
    "        app.addLabel(\"result10\",  \"Volume: \"+str(volume_or_dn) )\n",
    "        app.setLabelAlign(\"result10\",\"left\")\n",
    "        \n",
    "        app.addLabel(\"result11\",  \"PS * V: \"+ str(volume_or_dn*druck) )\n",
    "        app.setLabelAlign(\"result11\",\"left\")\n",
    "        \n",
    "        app.addLabel(\"subtitle12\", \"7. Ergebnis\")\n",
    "        app.setLabelAlign(\"subtitle12\", \"left\")\n",
    "        \n",
    "        msg = \"Die Anlage fällt unter Artikel 4, Absatz \"+absatz+\". Bestimmung erfolgt nach \"+diagramm+\".\"+\"Die Anlage fällt in Kategorie \"+diagramm_result+'.'+\" Diese Kategorie entspricht folgenden Modulkategorien:\"+ modul\n",
    "        app.addMessage(\"summary_message2\", msg)\n",
    "        app.setMessageAlign(\"summary_message2\",\"left\")\n",
    "        app.setMessageWidth(\"summary_message2\", 500)"
   ]
  },
  {
   "cell_type": "code",
   "execution_count": 22,
   "metadata": {},
   "outputs": [],
   "source": [
    "#Decides Richtlinie\n",
    "def druck_0(volume,druck,dn):\n",
    "    druck = float(druck)\n",
    "    result = \"No result\"\n",
    "    message = \"No message\"\n",
    "    if dn != '':\n",
    "        result = \"Druckbehälter\"\n",
    "        message = \"Anlage fällt unter'Druckbehälter nach 2014/68/EU'\" \n",
    "    if volume != '':\n",
    "        volume = float(volume)\n",
    "        if druck <= 30 and (volume*druck) <= 10000:\n",
    "            result = \"Einfacher Druckbehälter\"\n",
    "            message = \"Einfacher Druckbehälter nach 2014/29/EU\"  \n",
    "        elif druck > 30 and volume*druck <= 10000:\n",
    "            result = \"Druckbehälter\"\n",
    "            message =\"Der maximal zulässige Druck ist größer als 30 bar. Daher fällt die Anlage unter 'Druckbehälter nach 2014/68/EU'\"\n",
    "        elif volume*druck > 10000 and druck <= 30:\n",
    "            result = \"Druckbehälter\"\n",
    "            message =\"PS * V ist größer als 10.000. Daher fällt die Anlage unter 'Druckbehälter nach 2014/68/EU'\" \n",
    "        elif volume*druck > 10000 and druck >30:\n",
    "            result = \"Druckbehälter\"\n",
    "            message = \"Der maximal zulässige Druck ist größer als 30 bar und PS * V ist größer als 10.000. Daher fällt die Anlage unter 'Druckbehälter nach 2014/68/EU'\"\n",
    "    return result, message"
   ]
  },
  {
   "cell_type": "code",
   "execution_count": 23,
   "metadata": {},
   "outputs": [],
   "source": [
    "from appJar import gui"
   ]
  },
  {
   "cell_type": "code",
   "execution_count": 26,
   "metadata": {},
   "outputs": [],
   "source": [
    "variables = {'druck': 0, 'volume': 0, 'dn': 0,'objekt': 0,'medium': 0,'gruppe': 0,'diagramm':0, 'absatz': 0}\n",
    "\n",
    "def press_vol_druck_dn(button):\n",
    "    volume = 0\n",
    "    druck = 0\n",
    "    dn = 0\n",
    "    msg = \"\"\n",
    "    if button == \"Cancel\":\n",
    "        app.stop()\n",
    "    else:\n",
    "        volume = app.getEntry(\"Volumen (wenn dies zutrifft):\")\n",
    "        druck = app.getEntry(\"Maximal zulässiger Druck:\")\n",
    "        dn = app.getEntry(\"DN (wenn dies zutrifft):\")\n",
    "        #Save variables for further use\n",
    "        variables['druck'] = float(druck)\n",
    "        variables['volume'] = volume\n",
    "        variables['dn'] = dn\n",
    "        # Decides richtlinie given druck and volume information\n",
    "        druck_richtlinie, msg = druck_0(volume,druck,dn)\n",
    "        \n",
    "        if dn != \"\":\n",
    "            variables['dn'] = float(dn)\n",
    "            step_2_1()\n",
    "        \n",
    "        elif druck_richtlinie == \"Druckbehälter\" and dn == \"\":\n",
    "            variables['volume'] = float(volume)\n",
    "            app.addMessage(\"message\", msg)\n",
    "            app.setMessageAlign(\"message\",\"left\")\n",
    "            app.setMessageWidth(\"message\", 500)\n",
    "            step_2()\n",
    "        elif druck_richtlinie == \"Einfacher Druckbehälter\" and dn == \"\":\n",
    "            variables['volume'] = float(volume)\n",
    "            app.addMessage(\"message\", msg)\n",
    "            app.setMessageAlign(\"message\",\"left\")\n",
    "            app.setMessageWidth(\"message\", 500)\n",
    "            #step_3() Do we need to develop a tree for \"Einfacher Druckbehälter\"?\n",
    "            \n",
    "\n",
    "#Volume eingegeben\n",
    "def press_objekt(button):\n",
    "    if button == \"Cancel\":\n",
    "        app.stop()\n",
    "    else:\n",
    "        objekt = app.getRadioButton(\"Objekt\")\n",
    "        variables[\"objekt\"] = objekt\n",
    "        step_3() \n",
    "\n",
    "#DN eingegeben    \n",
    "def Dampftemperatur(button):\n",
    "    if button == \"Cancel\":\n",
    "        app.stop()\n",
    "    else:\n",
    "        answer1 = app.getRadioButton(\"Dampftemperatur\") \n",
    "        \n",
    "        if answer1 == \"Ja\":\n",
    "            variables['objekt'] = \"Rohrleitung\"\n",
    "            msg = \"Anlage fällt unter 'Druckbehälter nach 2014/68/EU'\"\n",
    "            app.addMessage(\"message12\", msg)\n",
    "            app.setMessageAlign(\"message12\",\"left\")\n",
    "            app.setMessageWidth(\"message12\", 500)\n",
    "            step_3()   \n",
    "        elif answer1 == \"Nein\":\n",
    "            msg =\"Die maximale Dampftemperatur liegt nicht über 110°C. Somit fällt die Anlage nicht unter die Druckgeräterichtlinie, Artikel 3.\"\n",
    "            app.addMessage(\"message13\", msg)\n",
    "            app.setMessageAlign(\"message13\",\"left\")\n",
    "            app.setMessageWidth(\"message13\", 500)\n",
    "    \n",
    "def press_rohrleitung_frage(button):\n",
    "    if button == \"Cancel\":\n",
    "        app.stop()\n",
    "    else:\n",
    "    #Ist das Objekt eine Rohrleitung? Ja/Nein\n",
    "        answer = app.getRadioButton(\"Objekt_2_1\")\n",
    "        if answer == \"Ja\":\n",
    "            app.addLabel(\"frage1\", \"Liegt die maximale Dampftemperatur über 110°C?\" )\n",
    "            app.setLabelAlign(\"frage1\",\"left\")\n",
    "            app.addRadioButton(\"Dampftemperatur\", \"Ja\")\n",
    "            app.addRadioButton(\"Dampftemperatur\", \"Nein\")\n",
    "            answer1 = app.getRadioButton(\"Dampftemperatur\")\n",
    "            app.addNamedButton(\"Submit\",'button20', Dampftemperatur)\n",
    "            app.addNamedButton(\"Cancel\",'button21', Dampftemperatur)\n",
    "        elif answer == \"Nein\":\n",
    "            app.addMessage(\"message_no\", \"Anlage fällt nicht unter die Druckbehälter richtlinien\")\n",
    "            app.setMessageAlign(\"message_no\",\"left\")\n",
    "            app.setMessageWidth(\"message_no\", 500)\n",
    "\n",
    "        \n",
    "        \n",
    "def press_medium(button):\n",
    "    if button == \"Cancel\":\n",
    "        app.stop()\n",
    "    else:\n",
    "        medium = app.getRadioButton(\"Medium\")\n",
    "        variables[\"medium\"] = medium\n",
    "        step_4()       \n",
    "        \n",
    "        \n",
    "def press_eigenschaften(button):\n",
    "    Gruppe = \"no group\"\n",
    "    if button == \"Cancel\":\n",
    "        app.stop()\n",
    "    else:\n",
    "        entzuendbar = app.getCheckBox(\"entzündbar\")\n",
    "        instabil_explosiv = app.getCheckBox(\"instabil/explosiv\")\n",
    "        selbstzersetzlich = app.getCheckBox(\"selbstzersetzlich\")\n",
    "        pyropher = app.getCheckBox(\"pyropher\")\n",
    "        oxidierend = app.getCheckBox(\"oxidierend\")\n",
    "        akut_toxisch = app.getCheckBox(\"akut toxisch\")\n",
    "        organisches_Peroxid = app.getCheckBox(\"organisches Peroxid\")\n",
    "        aetzend = app.getCheckBox(\"ätzend\")\n",
    "        eigenschaften_list = [entzuendbar,instabil_explosiv,selbstzersetzlich,pyropher,oxidierend,akut_toxisch,organisches_Peroxid,aetzend]\n",
    "        \n",
    "        if True in eigenschaften_list:\n",
    "            gruppe = \"Gruppe I\"\n",
    "            variables[\"gruppe\"] = gruppe\n",
    "        else:\n",
    "            gruppe = \"Gruppe II\"\n",
    "            variables[\"gruppe\"] = gruppe\n",
    "        step_5()\n",
    "          \n",
    "    return gruppe"
   ]
  },
  {
   "cell_type": "code",
   "execution_count": null,
   "metadata": {
    "collapsed": true
   },
   "outputs": [],
   "source": []
  },
  {
   "cell_type": "code",
   "execution_count": null,
   "metadata": {},
   "outputs": [
    {
     "name": "stderr",
     "output_type": "stream",
     "text": [
      "No handlers could be found for logger \"appJar\"\n",
      "2017-10-18 14:26:49,592 appJar:WARNING: You didn't stop all containers\n",
      "2017-10-18 14:26:49,593 appJar:WARNING: STOP: scrollPane\n"
     ]
    }
   ],
   "source": [
    "#Initialization of window for \"Einstufung des Druckgerätes\"\n",
    "app = gui(\"Einstufung des Druckgerätes\")\n",
    "app.startScrollPane(\"roll\")\n",
    "app.addLabel(\"subtitle1\", \"1. Richtlinie\") \n",
    "app.setLabelAlign(\"subtitle1\", \"left\")\n",
    "app.addLabelEntry(\"Maximal zulässiger Druck:\")\n",
    "app.addLabelEntry(\"Volumen (wenn dies zutrifft):\")\n",
    "app.addLabelEntry(\"DN (wenn dies zutrifft):\")\n",
    "app.addNamedButton(\"Submit\",'button1', press_vol_druck_dn)\n",
    "app.addNamedButton(\"Cancel\",'button2', press_vol_druck_dn)\n",
    "app.go()\n",
    "\n",
    "\n",
    "#Volume eingegeben\n",
    "def step_2():\n",
    "    app.addLabel(\"subtitle2\", \"2. Objekt\")\n",
    "    app.setLabelAlign(\"subtitle2\", \"left\")\n",
    "    app.addRadioButton(\"Objekt\", \"Behälter\")\n",
    "    #app.addRadioButton(\"Objekt\", \"Rohrleitung\")\n",
    "    app.addRadioButton(\"Objekt\", \"Dampferzeuger, -kessel\")\n",
    "    app.addNamedButton(\"Submit\",'button3', press_objekt)\n",
    "    app.addNamedButton(\"Cancel\",'button4', press_objekt)\n",
    "\n",
    "#DN eingegeben\n",
    "def step_2_1():\n",
    "    app.addLabel(\"subtitle3\", \"2. Objekt\")\n",
    "    app.addLabel(\"question\", \"Ist das Objekt eine Rohrleitung?\")\n",
    "    app.setLabelAlign(\"subtitle3\", \"left\")\n",
    "    app.setLabelAlign(\"question\", \"left\")\n",
    "    app.addRadioButton(\"Objekt_2_1\", \"Ja\")\n",
    "    app.addRadioButton(\"Objekt_2_1\", \"Nein\")\n",
    "    app.addNamedButton(\"Submit\",'button5', press_rohrleitung_frage)\n",
    "    app.addNamedButton(\"Cancel\",'button6', press_rohrleitung_frage)\n",
    "#Medium eingegeben\n",
    "def step_3():\n",
    "    app.addLabel(\"subtitle4\", \"3. Medium\")\n",
    "    app.setLabelAlign(\"subtitle4\", \"left\")\n",
    "    app.addRadioButton(\"Medium\", \"Gas bzw. verflüssigtes Gas\")\n",
    "    app.addRadioButton(\"Medium\", \"Flüssigkeit\")\n",
    "    app.addNamedButton(\"Submit\",'button7', press_medium)\n",
    "    app.addNamedButton(\"Cancel\",'button8', press_medium)\n",
    "#Eigenschaften der Fluide eingegeben\n",
    "def step_4():\n",
    "    app.addLabel(\"subtitle5\", \"4. Eigenschaften\")\n",
    "    app.setLabelAlign(\"subtitle5\", \"left\")\n",
    "    app.addCheckBox(\"entzündbar\")\n",
    "    app.addCheckBox(\"instabil/explosiv\")\n",
    "    app.addCheckBox(\"selbstzersetzlich\")\n",
    "    app.addCheckBox(\"pyropher\")\n",
    "    app.addCheckBox(\"oxidierend\")\n",
    "    app.addCheckBox(\"akut toxisch\")\n",
    "    app.addCheckBox(\"organisches Peroxid\")\n",
    "    app.addCheckBox(\"ätzend\")\n",
    "    app.addNamedButton(\"Submit\",'button9', press_eigenschaften)\n",
    "    app.addNamedButton(\"Cancel\",'button10', press_eigenschaften)\n",
    "    \n",
    "# query for diagramm and presentation of summary and results  \n",
    "def step_5():\n",
    "    objekt = variables[\"objekt\"] \n",
    "    medium = variables[\"medium\"]\n",
    "    gruppe = variables[\"gruppe\"]\n",
    "    druck = variables[\"druck\"]\n",
    "    volume = variables[\"volume\"]\n",
    "    dn = variables[\"dn\"]\n",
    "      \n",
    "    if dn == \"\":    \n",
    "        diagramm_result = druck_diagramm(objekt,medium,gruppe,druck,volume)\n",
    "        result_summary(objekt,medium,gruppe,druck,volume,diagramm_result)\n",
    "    else:\n",
    "        diagramm_result = druck_diagramm(objekt,medium,gruppe,druck,dn)\n",
    "        result_summary(objekt,medium,gruppe,druck,dn,diagramm_result)"
   ]
  },
  {
   "cell_type": "code",
   "execution_count": null,
   "metadata": {
    "collapsed": true
   },
   "outputs": [],
   "source": []
  },
  {
   "cell_type": "code",
   "execution_count": null,
   "metadata": {
    "collapsed": true
   },
   "outputs": [],
   "source": []
  }
 ],
 "metadata": {
  "kernelspec": {
   "display_name": "Python 2",
   "language": "python",
   "name": "python2"
  },
  "language_info": {
   "codemirror_mode": {
    "name": "ipython",
    "version": 2
   },
   "file_extension": ".py",
   "mimetype": "text/x-python",
   "name": "python",
   "nbconvert_exporter": "python",
   "pygments_lexer": "ipython2",
   "version": "2.7.12"
  }
 },
 "nbformat": 4,
 "nbformat_minor": 1
}
