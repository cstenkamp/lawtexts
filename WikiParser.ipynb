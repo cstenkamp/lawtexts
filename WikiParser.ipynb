{
 "cells": [
  {
   "cell_type": "markdown",
   "metadata": {},
   "source": [
    "# Wikipedia Parser Example"
   ]
  },
  {
   "cell_type": "markdown",
   "metadata": {},
   "source": [
    "Asks the user for a key word, looks for word in wikipedia and extracts the summary. Then the summary is tokenized by sentences and words and analyzed in seach for specific patterns( pattern associanted with properties such as 'is_an', 'has_part', 'has funktion', usw.) If pattern is found, the selected text containing the pattern is post tagged with the corresponding parts of the speech. Then the desired parts of the speech are selected and stored as properties. "
   ]
  },
  {
   "cell_type": "code",
   "execution_count": 1,
   "metadata": {
    "collapsed": true
   },
   "outputs": [],
   "source": [
    "import wikipedia\n",
    "import pandas as pd\n",
    "import numpy as np\n",
    "import nltk\n",
    "from nltk.corpus import treebank, wordnet\n",
    "from nltk.tokenize import sent_tokenize, word_tokenize\n",
    "from nltk.text import TokenSearcher\n"
   ]
  },
  {
   "cell_type": "code",
   "execution_count": 14,
   "metadata": {
    "collapsed": false
   },
   "outputs": [
    {
     "name": "stdout",
     "output_type": "stream",
     "text": [
      "Please enter the name of the machine: Kreissäge\n",
      "Eine Kreissäge ist eine Werkzeugmaschine zur spanenden Trennung von Werkstücken. Sie dient zum Sägen von Holz, Metall, Kunststoff, Baustoffen oder Naturstein. Man unterscheidet sie nach Art und Einsatzgebiet, wobei die größte Anzahl an Sägen im Bereich des Trennens von Holz und Metall eingesetzt wird. Das eigentliche Werkzeug ist ein Kreissägeblatt.\n",
      "Generell wird zwischen Sägen für den handwerklichen und den industriellen Einsatz differenziert, da sich die Maschinen in ihren Dimensionen und ihrer Funktion zum Teil erheblich unterscheiden.\n"
     ]
    }
   ],
   "source": [
    "#Setting for search in wikipedia\n",
    "wikipedia.set_lang(\"de\")\n",
    "#Ask user for input\n",
    "user_search = input(\"Please enter the name of the machine: \")\n",
    "#Examples of possible user search that work: Pflug, Dissolver, Trecker, Kreissäge\n",
    "wiki_related_artikles = wikipedia.search(user_search,1)\n",
    "user_search_page = wikipedia.page(wiki_related_artikles)\n",
    "summary = wikipedia.summary(wiki_related_artikles)\n",
    "print(summary)"
   ]
  },
  {
   "cell_type": "code",
   "execution_count": 15,
   "metadata": {
    "collapsed": false
   },
   "outputs": [
    {
     "name": "stdout",
     "output_type": "stream",
     "text": [
      "[['Eine', 'Kreissäge', 'ist', 'eine', 'Werkzeugmaschine', 'zur', 'spanenden', 'Trennung', 'von', 'Werkstücken', '.'], ['Sie', 'dient', 'zum', 'Sägen', 'von', 'Holz', ',', 'Metall', ',', 'Kunststoff', ',', 'Baustoffen', 'oder', 'Naturstein', '.'], ['Man', 'unterscheidet', 'sie', 'nach', 'Art', 'und', 'Einsatzgebiet', ',', 'wobei', 'die', 'größte', 'Anzahl', 'an', 'Sägen', 'im', 'Bereich', 'des', 'Trennens', 'von', 'Holz', 'und', 'Metall', 'eingesetzt', 'wird', '.'], ['Das', 'eigentliche', 'Werkzeug', 'ist', 'ein', 'Kreissägeblatt', '.'], ['Generell', 'wird', 'zwischen', 'Sägen', 'für', 'den', 'handwerklichen', 'und', 'den', 'industriellen', 'Einsatz', 'differenziert', ',', 'da', 'sich', 'die', 'Maschinen', 'in', 'ihren', 'Dimensionen', 'und', 'ihrer', 'Funktion', 'zum', 'Teil', 'erheblich', 'unterscheiden', '.']]\n"
     ]
    }
   ],
   "source": [
    "# Tokenizes the summary by sentences and words\n",
    "sentences = nltk.sent_tokenize(summary)\n",
    "tk_sentences = [nltk.word_tokenize(sent) for sent in sentences]\n",
    "print(tk_sentences)"
   ]
  },
  {
   "cell_type": "code",
   "execution_count": 16,
   "metadata": {
    "collapsed": false
   },
   "outputs": [],
   "source": [
    "#Defines possible properties\n",
    "is_an, has_part, has_function, for_material, instance_of, has_instance = ([] for i in range(6))\n",
    "is_an_patterns = ['<ist><.*><.*><.*>']"
   ]
  },
  {
   "cell_type": "code",
   "execution_count": 17,
   "metadata": {
    "collapsed": false
   },
   "outputs": [
    {
     "name": "stdout",
     "output_type": "stream",
     "text": [
      "[['ist', 'eine', 'Werkzeugmaschine', 'zur']]\n"
     ]
    }
   ],
   "source": [
    "#Looks for pattern in summary text\n",
    "for i in range(len(tk_sentences)):\n",
    "    wubSearcher = TokenSearcher(tk_sentences[i])\n",
    "    for pattern in is_an_patterns:\n",
    "        sentence = wubSearcher.findall(pattern)\n",
    "        if sentence != []:\n",
    "            is_an.append(sentence)\n",
    "\n",
    "is_an = is_an[0]\n",
    "print(is_an)"
   ]
  },
  {
   "cell_type": "code",
   "execution_count": 18,
   "metadata": {
    "collapsed": false
   },
   "outputs": [
    {
     "name": "stdout",
     "output_type": "stream",
     "text": [
      "[[('ist', 'JJ'), ('eine', 'NN'), ('Werkzeugmaschine', 'NNP'), ('zur', 'NN')]]\n"
     ]
    }
   ],
   "source": [
    "# Tagg parts of speech on selected text\n",
    "    \n",
    "is_an_tagged = [nltk.pos_tag(word) for word in is_an]\n",
    "#is_an_tagged= is_an_tagged[0]\n",
    "print(is_an_tagged)\n"
   ]
  },
  {
   "cell_type": "code",
   "execution_count": 12,
   "metadata": {
    "collapsed": false
   },
   "outputs": [],
   "source": [
    "grammar = 'NP: {<NN>?<J>*<NN>}'\n",
    "cp = nltk.RegexpParser(grammar)\n",
    "for s in is_an_tagged:\n",
    "    cp.parse(s).draw()"
   ]
  },
  {
   "cell_type": "code",
   "execution_count": 19,
   "metadata": {
    "collapsed": false
   },
   "outputs": [
    {
     "name": "stdout",
     "output_type": "stream",
     "text": [
      "[('Werkzeugmaschine', 'NNP')]\n"
     ]
    }
   ],
   "source": [
    "#Selects desired part of the speech, in this case the noun located after the pattern 'ist'\n",
    "is_an = [item for item in is_an_tagged[0] if item[1] == 'VBZ' or item[1] == 'NNP']\n",
    "print(is_an)"
   ]
  },
  {
   "cell_type": "code",
   "execution_count": 20,
   "metadata": {
    "collapsed": false
   },
   "outputs": [
    {
     "name": "stdout",
     "output_type": "stream",
     "text": [
      "Kreissäge properties: \n",
      " is_an: Werkzeugmaschine\n"
     ]
    }
   ],
   "source": [
    "#Prints output( or saves it into ontology and data base)\n",
    "if len(is_an) == 1:\n",
    "    is_an_nnp = is_an[0][0]\n",
    "    print('{} properties: \\n {}: {}'.format(user_search, 'is_an', is_an_nnp))    \n",
    "elif len(is_an) == 2:\n",
    "    is_an_nnp = is_an[1][0]\n",
    "    is_an_vbz = is_an[0][1]\n",
    "    print('{} \\nProperty {}: {} {} '.format(user_search, 'is_an',is_an_vbz, is_an_nnp))"
   ]
  },
  {
   "cell_type": "code",
   "execution_count": null,
   "metadata": {
    "collapsed": true
   },
   "outputs": [],
   "source": []
  }
 ],
 "metadata": {
  "kernelspec": {
   "display_name": "Python [default]",
   "language": "python",
   "name": "python3"
  },
  "language_info": {
   "codemirror_mode": {
    "name": "ipython",
    "version": 3
   },
   "file_extension": ".py",
   "mimetype": "text/x-python",
   "name": "python",
   "nbconvert_exporter": "python",
   "pygments_lexer": "ipython3",
   "version": "3.5.2"
  }
 },
 "nbformat": 4,
 "nbformat_minor": 2
}
