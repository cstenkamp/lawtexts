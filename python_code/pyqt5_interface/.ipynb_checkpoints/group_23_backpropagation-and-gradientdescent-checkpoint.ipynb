{
 "cells": [
  {
   "cell_type": "markdown",
   "metadata": {},
   "source": [
    "# Exercise 2\n",
    "\n",
    "## 2.1\n",
    "\\begin{align}\n",
    "    \\bar{a}_1 &= \\sigma(\\bar{x}^TW_1)\\\\\n",
    "    \\bar{a}_2 &= \\sigma(\\bar{a}_1\\bar{w}_2)\\\\\n",
    "              &= \\sigma(\\sigma(\\bar{x}^TW_1)\\bar{w}_2)\\\\\n",
    "    \\bar{a}_3 &= \\sigma(\\bar{a}_2\\bar{w}_3)\\\\\n",
    "              &= \\sigma(\\sigma(\\sigma(\\bar{x}^TW_1)\\bar{w}_2)\\bar{w}_3)\\\\\n",
    "            y &= \\bar{a}_3\n",
    "\\end{align}\n",
    "\n",
    "## 2.2\n",
    "\n",
    "\\begin{align}\n",
    "    \\text{loss} &= \\sum_i \\frac{1}{2}(y_i - \\hat{y}_i)^2\\\\\n",
    "                &= \\sum_i \\frac{1}{2}\\sigma(\\sigma(\\sigma(\\bar{x}^TW_1)\\bar{w}_2)\\bar{w}_3) - \\hat{y}_i)^2\n",
    "\\end{align}\n",
    "\n",
    "## 2.4\n",
    "\n",
    "\\begin{align}\n",
    "    \\frac{d}{dx}\\left( \\frac{1}{1+e^{-x}} \\right) = \\frac{e^x}{({e^x+1})^2}\n",
    "\\end{align}"
   ]
  },
  {
   "cell_type": "code",
   "execution_count": 35,
   "metadata": {},
   "outputs": [
    {
     "data": {
      "image/png": "[encoded data removed]",
      "text/plain": [
       "<matplotlib.figure.Figure at 0x7f1bb1a4a210>"
      ]
     },
     "metadata": {},
     "output_type": "display_data"
    }
   ],
   "source": [
    "import numpy as np\n",
    "import matplotlib.pyplot as plt\n",
    "\n",
    "np.random.seed(1)\n",
    "\n",
    "nSamples = 25\n",
    "\n",
    "cats = np.random.normal(25, 5, (2, nSamples))\n",
    "dogs = np.random.normal(45, 15, (2, nSamples))\n",
    "\n",
    "\n",
    "plt.scatter(cats[0,:],cats[1,:])\n",
    "plt.scatter(dogs[0,:],dogs[1,:])\n",
    "\n",
    "plt.xlabel('length')\n",
    "plt.ylabel('height')\n",
    "\n",
    "\n",
    "plt.show()\n"
   ]
  },
  {
   "cell_type": "code",
   "execution_count": 36,
   "metadata": {},
   "outputs": [
    {
     "data": {
      "image/png": "[encoded data removed]",
      "text/plain": [
       "<matplotlib.figure.Figure at 0x7f1bb1a4a6d0>"
      ]
     },
     "metadata": {},
     "output_type": "display_data"
    }
   ],
   "source": [
    "data = np.vstack((cats,dogs))\n",
    "\n",
    "cats -= np.mean(data)\n",
    "dogs -= np.mean(data)\n",
    "\n",
    "plt.scatter(cats[0,:],cats[1,:])\n",
    "plt.scatter(dogs[0,:],dogs[1,:])\n",
    "\n",
    "\n",
    "plt.xlabel('length')\n",
    "plt.ylabel('height')\n",
    "\n",
    "plt.show()\n",
    "\n"
   ]
  },
  {
   "cell_type": "code",
   "execution_count": 41,
   "metadata": {},
   "outputs": [],
   "source": [
    "def activationFunction(inp):\n",
    "    return np.tanh(inp)\n",
    "\n",
    "targets = np.hstack((np.ones(nSamples)*-1,np.ones(nSamples)))"
   ]
  },
  {
   "cell_type": "code",
   "execution_count": 26,
   "metadata": {},
   "outputs": [
    {
     "data": {
      "text/plain": [
       "(50,)"
      ]
     },
     "execution_count": 26,
     "metadata": {},
     "output_type": "execute_result"
    }
   ],
   "source": []
  }
 ],
 "metadata": {
  "kernelspec": {
   "display_name": "Python 2",
   "language": "python",
   "name": "python2"
  },
  "language_info": {
   "codemirror_mode": {
    "name": "ipython",
    "version": 2
   },
   "file_extension": ".py",
   "mimetype": "text/x-python",
   "name": "python",
   "nbconvert_exporter": "python",
   "pygments_lexer": "ipython2",
   "version": "2.7.12"
  }
 },
 "nbformat": 4,
 "nbformat_minor": 2
}
